{
 "cells": [
  {
   "cell_type": "markdown",
   "id": "be91b754",
   "metadata": {},
   "source": [
    "What is Programming\n",
    "Ans. Programming is a set of instructions given to the computer or machine to perform specific task.\n",
    "Here instructions are nothing but the steps involved in writing the code in 0 and 1 format.\n"
   ]
  },
  {
   "cell_type": "markdown",
   "id": "fa0596c7",
   "metadata": {},
   "source": [
    "What is coding ?\n",
    "Ans. Coding id nothing but the subset of programming.\n",
    "  Coding involves pure writing of code or logic to solve the problem statement."
   ]
  },
  {
   "cell_type": "markdown",
   "id": "813e535c",
   "metadata": {},
   "source": [
    "Compiler - Runs the whole code at once\n",
    "Interpretr - Executes the code line by line"
   ]
  },
  {
   "cell_type": "markdown",
   "id": "86a0570d",
   "metadata": {},
   "source": [
    "##  History"
   ]
  },
  {
   "cell_type": "raw",
   "id": "14194512",
   "metadata": {},
   "source": [
    "In the year 1989 , a group of employees developed a software named DOS(Disk Operating System.)"
   ]
  },
  {
   "cell_type": "raw",
   "id": "c9380819",
   "metadata": {},
   "source": [
    "All the members at that time uses ABC scripting language, which is quite simple , easy and powerful.\n",
    "One of the member named Guido Van Roosum , tried developing a new language just like ABC language which is easy and simple to use.."
   ]
  },
  {
   "cell_type": "raw",
   "id": "cd09c86a",
   "metadata": {},
   "source": [
    "In 1985 , the development started and in the year 1989 the development came to an end.\n",
    "Guido usually watches a comedy serial named \"Monty Python's flying circus\" in BBC channel..\n",
    "Inspired by this serail, he named the lanugage as \"Python\"..."
   ]
  },
  {
   "cell_type": "raw",
   "id": "07a20f30",
   "metadata": {},
   "source": [
    "In the year 1991,Python language has been announced Officially..."
   ]
  }
 ],
 "metadata": {
  "kernelspec": {
   "display_name": "Python 3",
   "language": "python",
   "name": "python3"
  },
  "language_info": {
   "codemirror_mode": {
    "name": "ipython",
    "version": 3
   },
   "file_extension": ".py",
   "mimetype": "text/x-python",
   "name": "python",
   "nbconvert_exporter": "python",
   "pygments_lexer": "ipython3",
   "version": "3.9.1"
  }
 },
 "nbformat": 4,
 "nbformat_minor": 5
}
