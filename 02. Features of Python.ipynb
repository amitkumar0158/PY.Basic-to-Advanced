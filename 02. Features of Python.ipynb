{
 "cells": [
  {
   "cell_type": "markdown",
   "id": "e65180bf",
   "metadata": {},
   "source": [
    "#### 1.  Pyth0n is simple , easy and Powerful language\n",
    "      Simple - Supports Simple  Syntax\n",
    "      Easy- Supports less programming length\n",
    "      Powerful- Lots of modules and lots of default codes"
   ]
  },
  {
   "cell_type": "markdown",
   "id": "be059323",
   "metadata": {},
   "source": [
    "#### 2. Pyth0n is general Purpose Programming language\n",
    "     General Purpose- We can do anything using python , ex - developing game, web scrapping etc.\n",
    "     Purpose Based- Designed for specific use only"
   ]
  },
  {
   "cell_type": "markdown",
   "id": "ff75aef8",
   "metadata": {},
   "source": [
    "#### 3. Pyth0n is  a interpreter  language\n",
    "     Interpreter executes the code line by line and stops where it finds any error\n",
    "     Compiler executes the entire code at a time"
   ]
  },
  {
   "cell_type": "markdown",
   "id": "214f33bc",
   "metadata": {},
   "source": [
    "#### 4. Pyth0n is a object oriented Programming language\n",
    "      Python supports\n",
    "      - Objects and Classes\n",
    "      -Data Abstraction\n",
    "      -Inheritance\n",
    "      -Polymorphism\n",
    "      -Encapsulation"
   ]
  },
  {
   "cell_type": "markdown",
   "id": "1b7b477b",
   "metadata": {},
   "source": [
    "#### 5. Pyth0n is Free and Open Source language\n",
    "      - We can download python from www.python.org\n",
    "      - No License or No Agreement Required"
   ]
  },
  {
   "cell_type": "markdown",
   "id": "7bd679d0",
   "metadata": {},
   "source": [
    "#### 6. Pyth0n is Expressive  language"
   ]
  },
  {
   "cell_type": "code",
   "execution_count": 9,
   "id": "96e32113",
   "metadata": {},
   "outputs": [
    {
     "data": {
      "text/plain": [
       "False"
      ]
     },
     "execution_count": 9,
     "metadata": {},
     "output_type": "execute_result"
    }
   ],
   "source": [
    "nums = [10,20,30,40,50]\n",
    "10 in nums\n",
    "10 not in nums"
   ]
  },
  {
   "cell_type": "markdown",
   "id": "b23c6356",
   "metadata": {},
   "source": [
    "#### 7. Python is beginers language\n",
    "      Because its simple and easy to use"
   ]
  },
  {
   "cell_type": "markdown",
   "id": "60a44b29",
   "metadata": {},
   "source": [
    "#### 8. Python is rich in modules\n",
    "     - Supports n number of modules"
   ]
  },
  {
   "cell_type": "markdown",
   "id": "0547f51a",
   "metadata": {},
   "source": [
    "#### 9. Python is high level Language\n",
    "     - Less Memory\n",
    "     - User Friendly\n",
    "     -Easy to Debug\n",
    "     - Easy to Understand"
   ]
  },
  {
   "cell_type": "markdown",
   "id": "615944bf",
   "metadata": {},
   "source": [
    "#### 10. Python is Portable language"
   ]
  },
  {
   "cell_type": "code",
   "execution_count": null,
   "id": "8b3692a4",
   "metadata": {},
   "outputs": [],
   "source": []
  }
 ],
 "metadata": {
  "kernelspec": {
   "display_name": "Python 3",
   "language": "python",
   "name": "python3"
  },
  "language_info": {
   "codemirror_mode": {
    "name": "ipython",
    "version": 3
   },
   "file_extension": ".py",
   "mimetype": "text/x-python",
   "name": "python",
   "nbconvert_exporter": "python",
   "pygments_lexer": "ipython3",
   "version": "3.9.1"
  }
 },
 "nbformat": 4,
 "nbformat_minor": 5
}
