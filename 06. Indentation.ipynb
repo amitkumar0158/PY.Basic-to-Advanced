{
 "cells": [
  {
   "cell_type": "markdown",
   "id": "72dabf7a",
   "metadata": {},
   "source": [
    "In python , indentation simply means \"Spaces\"...."
   ]
  },
  {
   "cell_type": "markdown",
   "id": "6295701e",
   "metadata": {},
   "source": [
    "Indentation indicates a block of code....."
   ]
  },
  {
   "cell_type": "code",
   "execution_count": 1,
   "id": "1f952520",
   "metadata": {},
   "outputs": [
    {
     "name": "stdout",
     "output_type": "stream",
     "text": [
      "5 is greater than 2\n"
     ]
    }
   ],
   "source": [
    "if 5>2:\n",
    "    print(\"5 is greater than 2\")"
   ]
  },
  {
   "cell_type": "markdown",
   "id": "f1f4ef3f",
   "metadata": {},
   "source": [
    "Here if we skip the spaces then we get indentation error....."
   ]
  },
  {
   "cell_type": "code",
   "execution_count": 2,
   "id": "a491722d",
   "metadata": {},
   "outputs": [
    {
     "ename": "IndentationError",
     "evalue": "expected an indented block (<ipython-input-2-bbd592a81d66>, line 2)",
     "output_type": "error",
     "traceback": [
      "\u001b[1;36m  File \u001b[1;32m\"<ipython-input-2-bbd592a81d66>\"\u001b[1;36m, line \u001b[1;32m2\u001b[0m\n\u001b[1;33m    print(\"5 is greater than 2\")\u001b[0m\n\u001b[1;37m    ^\u001b[0m\n\u001b[1;31mIndentationError\u001b[0m\u001b[1;31m:\u001b[0m expected an indented block\n"
     ]
    }
   ],
   "source": [
    "if 5>2:\n",
    "print(\"5 is greater than 2\")"
   ]
  },
  {
   "cell_type": "markdown",
   "id": "8e5b7732",
   "metadata": {},
   "source": [
    "Hence , there must be one spaces else if we get error...."
   ]
  }
 ],
 "metadata": {
  "kernelspec": {
   "display_name": "Python 3",
   "language": "python",
   "name": "python3"
  },
  "language_info": {
   "codemirror_mode": {
    "name": "ipython",
    "version": 3
   },
   "file_extension": ".py",
   "mimetype": "text/x-python",
   "name": "python",
   "nbconvert_exporter": "python",
   "pygments_lexer": "ipython3",
   "version": "3.9.1"
  }
 },
 "nbformat": 4,
 "nbformat_minor": 5
}
