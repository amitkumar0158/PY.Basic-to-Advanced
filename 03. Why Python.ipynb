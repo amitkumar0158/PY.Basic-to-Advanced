{
 "cells": [
  {
   "cell_type": "markdown",
   "id": "53a9e6be",
   "metadata": {},
   "source": [
    "### Why We need to learn Python"
   ]
  },
  {
   "cell_type": "markdown",
   "id": "ad6ce15d",
   "metadata": {},
   "source": [
    "1. Works on different Platforms"
   ]
  },
  {
   "cell_type": "markdown",
   "id": "d37425e4",
   "metadata": {},
   "source": [
    "2.Syntax Similar to English"
   ]
  },
  {
   "cell_type": "markdown",
   "id": "86a8650f",
   "metadata": {},
   "source": [
    "3. Codes in Fewer Lines"
   ]
  },
  {
   "cell_type": "markdown",
   "id": "b6d6589d",
   "metadata": {},
   "source": [
    "4.Execution Speed"
   ]
  },
  {
   "cell_type": "markdown",
   "id": "051af270",
   "metadata": {},
   "source": [
    "5. Can be treated in procedural Way"
   ]
  },
  {
   "cell_type": "markdown",
   "id": "88940208",
   "metadata": {},
   "source": [
    "6. Lot of Libraries for coding"
   ]
  },
  {
   "cell_type": "code",
   "execution_count": null,
   "id": "55f96f99",
   "metadata": {},
   "outputs": [],
   "source": []
  }
 ],
 "metadata": {
  "kernelspec": {
   "display_name": "Python 3",
   "language": "python",
   "name": "python3"
  },
  "language_info": {
   "codemirror_mode": {
    "name": "ipython",
    "version": 3
   },
   "file_extension": ".py",
   "mimetype": "text/x-python",
   "name": "python",
   "nbconvert_exporter": "python",
   "pygments_lexer": "ipython3",
   "version": "3.9.1"
  }
 },
 "nbformat": 4,
 "nbformat_minor": 5
}
