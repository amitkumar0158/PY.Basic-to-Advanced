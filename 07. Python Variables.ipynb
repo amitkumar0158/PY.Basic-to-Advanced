{
 "cells": [
  {
   "cell_type": "markdown",
   "id": "a6a2979c",
   "metadata": {},
   "source": [
    "Variables are nothing but reserved memory locations to store values..."
   ]
  },
  {
   "cell_type": "markdown",
   "id": "03cb656a",
   "metadata": {},
   "source": [
    "Whenever we createa variable , we reserve some space in the memory.."
   ]
  },
  {
   "cell_type": "markdown",
   "id": "468332fe",
   "metadata": {},
   "source": [
    "Based on the data type of the variable , the interpreter allocates the memory and decides \n",
    "what can be stored in the memory.."
   ]
  },
  {
   "cell_type": "markdown",
   "id": "3c0711e4",
   "metadata": {},
   "source": [
    "By using these different data type  to variables we can store  integers, decimal, float, boolean values.."
   ]
  },
  {
   "cell_type": "markdown",
   "id": "214353ed",
   "metadata": {},
   "source": [
    "# Assigning  single values "
   ]
  },
  {
   "cell_type": "code",
   "execution_count": 2,
   "id": "7a4abd62",
   "metadata": {},
   "outputs": [
    {
     "name": "stdout",
     "output_type": "stream",
     "text": [
      "10\n",
      "<class 'int'>\n",
      "2510745725520\n"
     ]
    }
   ],
   "source": [
    "m = 10\n",
    "print(m)\n",
    "print(type(m))\n",
    "print(id(m))"
   ]
  },
  {
   "cell_type": "code",
   "execution_count": 3,
   "id": "309d2329",
   "metadata": {},
   "outputs": [
    {
     "name": "stdout",
     "output_type": "stream",
     "text": [
      "20.4\n",
      "<class 'float'>\n",
      "2510818734320\n"
     ]
    }
   ],
   "source": [
    "n = 20.4\n",
    "print(n)\n",
    "print(type(n))\n",
    "print(id(n))"
   ]
  },
  {
   "cell_type": "markdown",
   "id": "8c10c9af",
   "metadata": {},
   "source": [
    "# Assigning  Multiple  values "
   ]
  },
  {
   "cell_type": "code",
   "execution_count": 4,
   "id": "8446c3ec",
   "metadata": {},
   "outputs": [],
   "source": [
    "a , b , c = 10, 10.5, 'Amit'\n"
   ]
  },
  {
   "cell_type": "code",
   "execution_count": 5,
   "id": "31ce2621",
   "metadata": {},
   "outputs": [
    {
     "name": "stdout",
     "output_type": "stream",
     "text": [
      "10\n",
      "<class 'int'>\n",
      "2510745725520\n"
     ]
    }
   ],
   "source": [
    "print(a)\n",
    "print(type(a))\n",
    "print(id(a))"
   ]
  },
  {
   "cell_type": "code",
   "execution_count": 6,
   "id": "b24d6ccd",
   "metadata": {},
   "outputs": [
    {
     "name": "stdout",
     "output_type": "stream",
     "text": [
      "10.5\n",
      "<class 'float'>\n",
      "2510819191248\n"
     ]
    }
   ],
   "source": [
    "print(b)\n",
    "print(type(b))\n",
    "print(id(b))"
   ]
  },
  {
   "cell_type": "code",
   "execution_count": 7,
   "id": "563cc986",
   "metadata": {},
   "outputs": [
    {
     "name": "stdout",
     "output_type": "stream",
     "text": [
      "Amit\n",
      "<class 'str'>\n",
      "2510819188400\n"
     ]
    }
   ],
   "source": [
    "print(c)\n",
    "print(type(c))\n",
    "print(id(c))"
   ]
  },
  {
   "cell_type": "markdown",
   "id": "cf2cb5e0",
   "metadata": {},
   "source": [
    "# Assinging Same Values to multiple String"
   ]
  },
  {
   "cell_type": "code",
   "execution_count": 8,
   "id": "6f709ea6",
   "metadata": {},
   "outputs": [
    {
     "name": "stdout",
     "output_type": "stream",
     "text": [
      "100\n",
      "100\n",
      "100\n"
     ]
    }
   ],
   "source": [
    "p = q =r =100\n",
    "print(p)\n",
    "print(q)\n",
    "print(r)"
   ]
  },
  {
   "cell_type": "code",
   "execution_count": null,
   "id": "1e129a59",
   "metadata": {},
   "outputs": [],
   "source": []
  }
 ],
 "metadata": {
  "kernelspec": {
   "display_name": "Python 3",
   "language": "python",
   "name": "python3"
  },
  "language_info": {
   "codemirror_mode": {
    "name": "ipython",
    "version": 3
   },
   "file_extension": ".py",
   "mimetype": "text/x-python",
   "name": "python",
   "nbconvert_exporter": "python",
   "pygments_lexer": "ipython3",
   "version": "3.9.1"
  }
 },
 "nbformat": 4,
 "nbformat_minor": 5
}
