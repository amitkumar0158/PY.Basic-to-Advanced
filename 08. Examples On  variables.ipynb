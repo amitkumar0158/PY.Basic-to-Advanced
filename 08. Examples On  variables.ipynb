{
 "cells": [
  {
   "cell_type": "markdown",
   "id": "f20f6307",
   "metadata": {},
   "source": [
    "### Example -1 "
   ]
  },
  {
   "cell_type": "code",
   "execution_count": 1,
   "id": "32dc0339",
   "metadata": {},
   "outputs": [],
   "source": [
    "my_name = \"Amit\""
   ]
  },
  {
   "cell_type": "code",
   "execution_count": 2,
   "id": "f711200c",
   "metadata": {},
   "outputs": [],
   "source": [
    "my_age = 23 "
   ]
  },
  {
   "cell_type": "code",
   "execution_count": 3,
   "id": "dd179034",
   "metadata": {},
   "outputs": [],
   "source": [
    "my_height = 74 "
   ]
  },
  {
   "cell_type": "code",
   "execution_count": 4,
   "id": "c6859b8f",
   "metadata": {},
   "outputs": [],
   "source": [
    "my_weight = 55 "
   ]
  },
  {
   "cell_type": "code",
   "execution_count": 5,
   "id": "580035f3",
   "metadata": {},
   "outputs": [],
   "source": [
    "my_eyes = \"Black\""
   ]
  },
  {
   "cell_type": "code",
   "execution_count": 6,
   "id": "55afa655",
   "metadata": {},
   "outputs": [],
   "source": [
    "my_teeth = \"white\""
   ]
  },
  {
   "cell_type": "code",
   "execution_count": 7,
   "id": "986b1261",
   "metadata": {},
   "outputs": [],
   "source": [
    "my_hair = \"Black\""
   ]
  },
  {
   "cell_type": "code",
   "execution_count": 8,
   "id": "0bb27c63",
   "metadata": {},
   "outputs": [
    {
     "name": "stdout",
     "output_type": "stream",
     "text": [
      "Lets talk about Amit\n"
     ]
    }
   ],
   "source": [
    "print(\"Lets talk about %s\"%my_name)"
   ]
  },
  {
   "cell_type": "code",
   "execution_count": 9,
   "id": "b0d1cb8b",
   "metadata": {},
   "outputs": [
    {
     "name": "stdout",
     "output_type": "stream",
     "text": [
      "He is 74 inches tall\n"
     ]
    }
   ],
   "source": [
    "print(\"He is %d inches tall\"%my_height)"
   ]
  },
  {
   "cell_type": "code",
   "execution_count": 10,
   "id": "0928532c",
   "metadata": {},
   "outputs": [
    {
     "name": "stdout",
     "output_type": "stream",
     "text": [
      "He is 55 kgs heavy\n"
     ]
    }
   ],
   "source": [
    "print(\"He is %d kgs heavy\"%my_weight)"
   ]
  },
  {
   "cell_type": "code",
   "execution_count": 11,
   "id": "485f21ed",
   "metadata": {},
   "outputs": [
    {
     "name": "stdout",
     "output_type": "stream",
     "text": [
      "He got Black eyes and Black hair \n"
     ]
    }
   ],
   "source": [
    "print(\"He got %s eyes and %s hair \"%(my_eyes,my_hair))"
   ]
  },
  {
   "cell_type": "code",
   "execution_count": 12,
   "id": "201d189a",
   "metadata": {},
   "outputs": [
    {
     "name": "stdout",
     "output_type": "stream",
     "text": [
      " He got white teeth\n"
     ]
    }
   ],
   "source": [
    "print(\" He got %s teeth\"%my_teeth)"
   ]
  },
  {
   "cell_type": "code",
   "execution_count": 13,
   "id": "7fb2f385",
   "metadata": {},
   "outputs": [
    {
     "name": "stdout",
     "output_type": "stream",
     "text": [
      " Hi this is Amit , if i add 23 and 74 and 55  i get 152\n"
     ]
    }
   ],
   "source": [
    "print(\" Hi this is %s , if i add %d and %d and %d  i get %d\"%(my_name,my_age,my_height,my_weight,my_age+my_height+my_weight))"
   ]
  },
  {
   "cell_type": "markdown",
   "id": "1f506a63",
   "metadata": {},
   "source": [
    "### Example -2 "
   ]
  },
  {
   "cell_type": "code",
   "execution_count": 33,
   "id": "ec3bb072",
   "metadata": {},
   "outputs": [
    {
     "name": "stdout",
     "output_type": "stream",
     "text": [
      "There are  100  cars available\n",
      "But There are only  30 drivers available\n",
      "There will be  70 empty cars today\n",
      "We can transport  360.0  peoples today\n",
      "We have  90  Passengers  to carpool today \n",
      "We  have to put  3.0 in each car\n"
     ]
    }
   ],
   "source": [
    "cars = 100 \n",
    "spaces_in_a_car = 4.0\n",
    "drivers = 30\n",
    "pasengers = 90\n",
    "cars_not_driven = cars - drivers\n",
    "cars_driven = drivers\n",
    "carpool_capacity = pasengers *spaces_in_a_car\n",
    "Average_pasengers_Per_car = pasengers/cars_driven  \n",
    "print(\"There are \",cars,\" cars available\")\n",
    "print(\"But There are only \",drivers,\"drivers available\")\n",
    "print(\"There will be \",cars_not_driven,\"empty cars today\")\n",
    "print(\"We can transport \",carpool_capacity,\" peoples today\")\n",
    "print(\"We have \",pasengers,\" Passengers  to carpool today \")\n",
    "print(\"We  have to put \",Average_pasengers_Per_car,\"in each car\")"
   ]
  },
  {
   "cell_type": "markdown",
   "id": "9efec045",
   "metadata": {},
   "source": [
    "### Example -3 "
   ]
  },
  {
   "cell_type": "code",
   "execution_count": 40,
   "id": "a24100c3",
   "metadata": {},
   "outputs": [
    {
     "name": "stdout",
     "output_type": "stream",
     "text": [
      "Marry had a little lamb\n",
      "its fleece  was white as snow\n",
      "And everywhere that marry went\n",
      ",,,,,,,,,,\n"
     ]
    }
   ],
   "source": [
    "print(\"Marry had a little lamb\")\n",
    "print(\"its fleece  was white as snow\")\n",
    "print(\"And everywhere that marry went\")\n",
    "print(\",\"*10)"
   ]
  },
  {
   "cell_type": "markdown",
   "id": "981aec9f",
   "metadata": {},
   "source": [
    "### Example -4"
   ]
  },
  {
   "cell_type": "code",
   "execution_count": 42,
   "id": "27b8a334",
   "metadata": {},
   "outputs": [
    {
     "name": "stdout",
     "output_type": "stream",
     "text": [
      "Here are the days   mon tue wed thursday friday saturday sunday\n"
     ]
    }
   ],
   "source": [
    "Days = \" mon tue wed thursday friday saturday sunday\"\n",
    "print(\"Here are the days \",Days)\n",
    "months = \"jan\\nfeb\\nmar\\n\""
   ]
  },
  {
   "cell_type": "code",
   "execution_count": null,
   "id": "be88b6e4",
   "metadata": {},
   "outputs": [],
   "source": []
  }
 ],
 "metadata": {
  "kernelspec": {
   "display_name": "Python 3",
   "language": "python",
   "name": "python3"
  },
  "language_info": {
   "codemirror_mode": {
    "name": "ipython",
    "version": 3
   },
   "file_extension": ".py",
   "mimetype": "text/x-python",
   "name": "python",
   "nbconvert_exporter": "python",
   "pygments_lexer": "ipython3",
   "version": "3.9.1"
  }
 },
 "nbformat": 4,
 "nbformat_minor": 5
}
